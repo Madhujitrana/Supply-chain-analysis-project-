{
 "cells": [
  {
   "cell_type": "code",
   "execution_count": 488,
   "id": "e8ce4aaa",
   "metadata": {},
   "outputs": [],
   "source": [
    "import pandas as pd\n",
    "import numpy as np\n",
    "import datetime as dt\n",
    "import matplotlib.pyplot as plt\n",
    "from statsmodels.tsa.stattools import adfuller\n",
    "from statsmodels.graphics.tsaplots import plot_acf, plot_pacf\n",
    "\n",
    "from statsmodels.tsa.arima.model import ARIMA\n",
    "from sklearn.metrics import mean_absolute_error\n",
    "from pandas.tseries.offsets import DateOffset\n",
    "import datetime as dt\n",
    "from sklearn.ensemble import RandomForestClassifier, RandomForestRegressor\n",
    "from sklearn.tree import DecisionTreeClassifier, DecisionTreeRegressor\n",
    "import xgboost as xgb\n",
    "from  sklearn.preprocessing import StandardScaler\n",
    "from sklearn.model_selection import train_test_split\n",
    "from sklearn.decomposition import PCA\n",
    "from sklearn.metrics import mean_absolute_error as mae\n",
    "from sklearn.metrics import r2_score\n",
    "import lightgbm as lgb\n",
    "from sklearn.linear_model import LinearRegression\n",
    "from sklearn.svm import SVR\n",
    "from sklearn.model_selection import RandomizedSearchCV\n"
   ]
  },
  {
   "cell_type": "code",
   "execution_count": 331,
   "id": "e0305515",
   "metadata": {},
   "outputs": [],
   "source": [
    "file=r\"C:\\Users\\Madhujit\\Desktop\\train.csv\""
   ]
  },
  {
   "cell_type": "code",
   "execution_count": 332,
   "id": "6ba57efa",
   "metadata": {},
   "outputs": [],
   "source": [
    "df=pd.read_csv(file)"
   ]
  },
  {
   "cell_type": "code",
   "execution_count": 333,
   "id": "4d155dc0",
   "metadata": {},
   "outputs": [
    {
     "data": {
      "text/plain": [
       "Row ID            0\n",
       "Order ID          0\n",
       "Order Date        0\n",
       "Ship Date         0\n",
       "Ship Mode         0\n",
       "Customer ID       0\n",
       "Customer Name     0\n",
       "Segment           0\n",
       "Country           0\n",
       "City              0\n",
       "State             0\n",
       "Postal Code      11\n",
       "Region            0\n",
       "Product ID        0\n",
       "Category          0\n",
       "Sub-Category      0\n",
       "Product Name      0\n",
       "Sales             0\n",
       "dtype: int64"
      ]
     },
     "execution_count": 333,
     "metadata": {},
     "output_type": "execute_result"
    }
   ],
   "source": [
    "df.isnull().sum()"
   ]
  },
  {
   "cell_type": "code",
   "execution_count": 334,
   "id": "cd05747c",
   "metadata": {},
   "outputs": [],
   "source": [
    "df.columns=df.columns.str.replace(\" \",\"_\")"
   ]
  },
  {
   "cell_type": "code",
   "execution_count": 335,
   "id": "2c397554",
   "metadata": {},
   "outputs": [],
   "source": [
    "df.columns=df.columns.str.lower()"
   ]
  },
  {
   "cell_type": "code",
   "execution_count": 336,
   "id": "d0d210d6",
   "metadata": {},
   "outputs": [],
   "source": [
    "df[\"postal_code\"]=df[\"postal_code\"].fillna(42420)"
   ]
  },
  {
   "cell_type": "code",
   "execution_count": 337,
   "id": "8532ad7e",
   "metadata": {},
   "outputs": [],
   "source": [
    "from  sklearn.preprocessing import LabelEncoder\n"
   ]
  },
  {
   "cell_type": "code",
   "execution_count": 338,
   "id": "217d496e",
   "metadata": {},
   "outputs": [],
   "source": [
    "encode=LabelEncoder()"
   ]
  },
  {
   "cell_type": "code",
   "execution_count": 339,
   "id": "4ed89b79",
   "metadata": {},
   "outputs": [
    {
     "data": {
      "text/plain": [
       "Index(['order_id', 'order_date', 'ship_date', 'ship_mode', 'customer_id',\n",
       "       'customer_name', 'segment', 'country', 'city', 'state', 'region',\n",
       "       'product_id', 'category', 'sub-category', 'product_name'],\n",
       "      dtype='object')"
      ]
     },
     "execution_count": 339,
     "metadata": {},
     "output_type": "execute_result"
    }
   ],
   "source": [
    "df.select_dtypes(include=\"object\").columns"
   ]
  },
  {
   "cell_type": "code",
   "execution_count": 340,
   "id": "6593e6d7",
   "metadata": {},
   "outputs": [],
   "source": [
    "col=['order_id', 'ship_mode', 'customer_id',\n",
    "       'customer_name', 'segment', 'country', 'city', 'state', 'region',\n",
    "       'product_id', 'category', 'sub-category', 'product_name']"
   ]
  },
  {
   "cell_type": "code",
   "execution_count": 341,
   "id": "0d75f3bc",
   "metadata": {},
   "outputs": [],
   "source": [
    "for i in col:\n",
    "    df[i]=encode.fit_transform(df[i])"
   ]
  },
  {
   "cell_type": "code",
   "execution_count": 342,
   "id": "e49962f5",
   "metadata": {},
   "outputs": [
    {
     "name": "stderr",
     "output_type": "stream",
     "text": [
      "C:\\Users\\Madhujit\\AppData\\Local\\Temp\\ipykernel_11644\\662191188.py:1: UserWarning: Parsing dates in DD/MM/YYYY format when dayfirst=False (the default) was specified. This may lead to inconsistently parsed dates! Specify a format to ensure consistent parsing.\n",
      "  df[\"order_date\"]=pd.to_datetime(df[\"order_date\"])\n",
      "C:\\Users\\Madhujit\\AppData\\Local\\Temp\\ipykernel_11644\\662191188.py:2: UserWarning: Parsing dates in DD/MM/YYYY format when dayfirst=False (the default) was specified. This may lead to inconsistently parsed dates! Specify a format to ensure consistent parsing.\n",
      "  df[\"ship_date\"]=pd.to_datetime(df[\"ship_date\"])\n"
     ]
    }
   ],
   "source": [
    "df[\"order_date\"]=pd.to_datetime(df[\"order_date\"])\n",
    "df[\"ship_date\"]=pd.to_datetime(df[\"ship_date\"])"
   ]
  },
  {
   "cell_type": "code",
   "execution_count": 343,
   "id": "03d465f9",
   "metadata": {},
   "outputs": [],
   "source": [
    "df[\"mean\"]=df[\"sales\"].mean()"
   ]
  },
  {
   "cell_type": "code",
   "execution_count": 344,
   "id": "86106bab",
   "metadata": {},
   "outputs": [],
   "source": [
    "df[\"std\"]=df[\"sales\"].std()"
   ]
  },
  {
   "cell_type": "code",
   "execution_count": 345,
   "id": "dd24c63c",
   "metadata": {},
   "outputs": [
    {
     "name": "stderr",
     "output_type": "stream",
     "text": [
      "C:\\Users\\Madhujit\\AppData\\Local\\Temp\\ipykernel_11644\\2264027779.py:2: FutureWarning: Series.dt.weekofyear and Series.dt.week have been deprecated. Please use Series.dt.isocalendar().week instead.\n",
      "  df[\"week\"]=df[\"order_date\"].dt.week\n",
      "C:\\Users\\Madhujit\\AppData\\Local\\Temp\\ipykernel_11644\\2264027779.py:4: FutureWarning: Series.dt.weekofyear and Series.dt.week have been deprecated. Please use Series.dt.isocalendar().week instead.\n",
      "  df[\"shipweek\"]=df[\"ship_date\"].dt.week\n"
     ]
    }
   ],
   "source": [
    "df[\"month\"]=df[\"order_date\"].dt.month\n",
    "df[\"week\"]=df[\"order_date\"].dt.week\n",
    "df[\"shipmonth\"]=df[\"ship_date\"].dt.month\n",
    "df[\"shipweek\"]=df[\"ship_date\"].dt.week"
   ]
  },
  {
   "cell_type": "code",
   "execution_count": 346,
   "id": "35ce09df",
   "metadata": {},
   "outputs": [],
   "source": [
    "df[\"weekday\"]=df[\"order_date\"].dt.weekday"
   ]
  },
  {
   "cell_type": "code",
   "execution_count": 347,
   "id": "4a3b8d65",
   "metadata": {},
   "outputs": [],
   "source": [
    "df[\"is_holiday\"]=df[\"weekday\"].apply(lambda x: 1 if x==6 else 0)"
   ]
  },
  {
   "cell_type": "code",
   "execution_count": 348,
   "id": "891e861a",
   "metadata": {},
   "outputs": [],
   "source": [
    "df[\"time_to_complete_order\"]=df[\"order_date\"]-df[\"ship_date\"]"
   ]
  },
  {
   "cell_type": "code",
   "execution_count": 349,
   "id": "220193fd",
   "metadata": {},
   "outputs": [],
   "source": [
    "order_count=df.groupby(\"customer_id\")[\"order_id\"].count().reset_index()"
   ]
  },
  {
   "cell_type": "code",
   "execution_count": 350,
   "id": "a72e12d7",
   "metadata": {},
   "outputs": [],
   "source": [
    "order_count.columns=[\"customer_id\",\"order_freq\"]"
   ]
  },
  {
   "cell_type": "code",
   "execution_count": 351,
   "id": "83a0a855",
   "metadata": {},
   "outputs": [],
   "source": [
    "df=pd.merge(df,order_count,on=\"customer_id\",how=\"left\")"
   ]
  },
  {
   "cell_type": "code",
   "execution_count": 352,
   "id": "87203548",
   "metadata": {},
   "outputs": [],
   "source": [
    "total_amount=df.groupby(\"order_id\")[\"sales\"].sum().reset_index()\n",
    "total_amount.columns=[\"order_id\",\"total_sale\"]"
   ]
  },
  {
   "cell_type": "code",
   "execution_count": 353,
   "id": "d962db6d",
   "metadata": {},
   "outputs": [],
   "source": [
    "df=pd.merge(df,total_amount,on=\"order_id\",how=\"left\")"
   ]
  },
  {
   "cell_type": "code",
   "execution_count": 144,
   "id": "85d86ab8",
   "metadata": {},
   "outputs": [],
   "source": [
    "x=df.drop([\"sales\"],axis=1)\n",
    "y=df[\"sales\"]"
   ]
  },
  {
   "cell_type": "code",
   "execution_count": 355,
   "id": "e15bb5db",
   "metadata": {},
   "outputs": [],
   "source": [
    "x.drop([\"order_date\",\"ship_date\"],axis=1,inplace=True)"
   ]
  },
  {
   "cell_type": "code",
   "execution_count": 356,
   "id": "3be49b12",
   "metadata": {},
   "outputs": [],
   "source": [
    "x[\"time_to_complete_order\"]=x[\"time_to_complete_order\"].astype(\"int64\")"
   ]
  },
  {
   "cell_type": "code",
   "execution_count": 357,
   "id": "2ac08c50",
   "metadata": {},
   "outputs": [],
   "source": [
    "x_train,x_test,y_train,y_test=train_test_split(x,y)"
   ]
  },
  {
   "cell_type": "code",
   "execution_count": 404,
   "id": "69db9675",
   "metadata": {},
   "outputs": [
    {
     "data": {
      "text/html": [
       "<style>#sk-container-id-7 {color: black;background-color: white;}#sk-container-id-7 pre{padding: 0;}#sk-container-id-7 div.sk-toggleable {background-color: white;}#sk-container-id-7 label.sk-toggleable__label {cursor: pointer;display: block;width: 100%;margin-bottom: 0;padding: 0.3em;box-sizing: border-box;text-align: center;}#sk-container-id-7 label.sk-toggleable__label-arrow:before {content: \"▸\";float: left;margin-right: 0.25em;color: #696969;}#sk-container-id-7 label.sk-toggleable__label-arrow:hover:before {color: black;}#sk-container-id-7 div.sk-estimator:hover label.sk-toggleable__label-arrow:before {color: black;}#sk-container-id-7 div.sk-toggleable__content {max-height: 0;max-width: 0;overflow: hidden;text-align: left;background-color: #f0f8ff;}#sk-container-id-7 div.sk-toggleable__content pre {margin: 0.2em;color: black;border-radius: 0.25em;background-color: #f0f8ff;}#sk-container-id-7 input.sk-toggleable__control:checked~div.sk-toggleable__content {max-height: 200px;max-width: 100%;overflow: auto;}#sk-container-id-7 input.sk-toggleable__control:checked~label.sk-toggleable__label-arrow:before {content: \"▾\";}#sk-container-id-7 div.sk-estimator input.sk-toggleable__control:checked~label.sk-toggleable__label {background-color: #d4ebff;}#sk-container-id-7 div.sk-label input.sk-toggleable__control:checked~label.sk-toggleable__label {background-color: #d4ebff;}#sk-container-id-7 input.sk-hidden--visually {border: 0;clip: rect(1px 1px 1px 1px);clip: rect(1px, 1px, 1px, 1px);height: 1px;margin: -1px;overflow: hidden;padding: 0;position: absolute;width: 1px;}#sk-container-id-7 div.sk-estimator {font-family: monospace;background-color: #f0f8ff;border: 1px dotted black;border-radius: 0.25em;box-sizing: border-box;margin-bottom: 0.5em;}#sk-container-id-7 div.sk-estimator:hover {background-color: #d4ebff;}#sk-container-id-7 div.sk-parallel-item::after {content: \"\";width: 100%;border-bottom: 1px solid gray;flex-grow: 1;}#sk-container-id-7 div.sk-label:hover label.sk-toggleable__label {background-color: #d4ebff;}#sk-container-id-7 div.sk-serial::before {content: \"\";position: absolute;border-left: 1px solid gray;box-sizing: border-box;top: 0;bottom: 0;left: 50%;z-index: 0;}#sk-container-id-7 div.sk-serial {display: flex;flex-direction: column;align-items: center;background-color: white;padding-right: 0.2em;padding-left: 0.2em;position: relative;}#sk-container-id-7 div.sk-item {position: relative;z-index: 1;}#sk-container-id-7 div.sk-parallel {display: flex;align-items: stretch;justify-content: center;background-color: white;position: relative;}#sk-container-id-7 div.sk-item::before, #sk-container-id-7 div.sk-parallel-item::before {content: \"\";position: absolute;border-left: 1px solid gray;box-sizing: border-box;top: 0;bottom: 0;left: 50%;z-index: -1;}#sk-container-id-7 div.sk-parallel-item {display: flex;flex-direction: column;z-index: 1;position: relative;background-color: white;}#sk-container-id-7 div.sk-parallel-item:first-child::after {align-self: flex-end;width: 50%;}#sk-container-id-7 div.sk-parallel-item:last-child::after {align-self: flex-start;width: 50%;}#sk-container-id-7 div.sk-parallel-item:only-child::after {width: 0;}#sk-container-id-7 div.sk-dashed-wrapped {border: 1px dashed gray;margin: 0 0.4em 0.5em 0.4em;box-sizing: border-box;padding-bottom: 0.4em;background-color: white;}#sk-container-id-7 div.sk-label label {font-family: monospace;font-weight: bold;display: inline-block;line-height: 1.2em;}#sk-container-id-7 div.sk-label-container {text-align: center;}#sk-container-id-7 div.sk-container {/* jupyter's `normalize.less` sets `[hidden] { display: none; }` but bootstrap.min.css set `[hidden] { display: none !important; }` so we also need the `!important` here to be able to override the default hidden behavior on the sphinx rendered scikit-learn.org. See: https://github.com/scikit-learn/scikit-learn/issues/21755 */display: inline-block !important;position: relative;}#sk-container-id-7 div.sk-text-repr-fallback {display: none;}</style><div id=\"sk-container-id-7\" class=\"sk-top-container\"><div class=\"sk-text-repr-fallback\"><pre>RandomForestRegressor()</pre><b>In a Jupyter environment, please rerun this cell to show the HTML representation or trust the notebook. <br />On GitHub, the HTML representation is unable to render, please try loading this page with nbviewer.org.</b></div><div class=\"sk-container\" hidden><div class=\"sk-item\"><div class=\"sk-estimator sk-toggleable\"><input class=\"sk-toggleable__control sk-hidden--visually\" id=\"sk-estimator-id-15\" type=\"checkbox\" checked><label for=\"sk-estimator-id-15\" class=\"sk-toggleable__label sk-toggleable__label-arrow\">RandomForestRegressor</label><div class=\"sk-toggleable__content\"><pre>RandomForestRegressor()</pre></div></div></div></div></div>"
      ],
      "text/plain": [
       "RandomForestRegressor()"
      ]
     },
     "execution_count": 404,
     "metadata": {},
     "output_type": "execute_result"
    }
   ],
   "source": [
    "reg=RandomForestRegressor()\n",
    "reg.fit(x_train_scale,y_train)\n"
   ]
  },
  {
   "cell_type": "code",
   "execution_count": 405,
   "id": "16dd6c8c",
   "metadata": {},
   "outputs": [],
   "source": [
    "import_dict=dict(zip(reg.feature_importances_ ,x_train.columns))"
   ]
  },
  {
   "cell_type": "code",
   "execution_count": 406,
   "id": "c18e032b",
   "metadata": {},
   "outputs": [
    {
     "data": {
      "text/plain": [
       "[0.37081387184943637,\n",
       " 0.15288502022037515,\n",
       " 0.13498305620296744,\n",
       " 0.07660225336079216,\n",
       " 0.057717165026620644,\n",
       " 0.03311361958023867,\n",
       " 0.026491971010263644,\n",
       " 0.02528704441942666,\n",
       " 0.025204055102064932,\n",
       " 0.023418833776931804,\n",
       " 0.01971454564231439,\n",
       " 0.019578720217991997,\n",
       " 0.012643427368082182,\n",
       " 0.007629043864044197,\n",
       " 0.004860436059176067,\n",
       " 0.004499370752363626,\n",
       " 0.003560058747640753,\n",
       " 0.0009975067992695002,\n",
       " 0.0]"
      ]
     },
     "execution_count": 406,
     "metadata": {},
     "output_type": "execute_result"
    }
   ],
   "source": [
    "sorted(import_dict,reverse=True)"
   ]
  },
  {
   "cell_type": "code",
   "execution_count": 407,
   "id": "93a2b924",
   "metadata": {},
   "outputs": [
    {
     "name": "stdout",
     "output_type": "stream",
     "text": [
      "total_sale\n",
      "product_name\n",
      "category\n",
      "sub-category\n",
      "row_id\n",
      "week\n",
      "order_id\n",
      "customer_name\n",
      "postal_code\n",
      "order_freq\n",
      "time_to_complete_order\n",
      "city\n",
      "state\n"
     ]
    }
   ],
   "source": [
    "for value,columns in sorted(import_dict.items(),reverse=True):\n",
    "    if value>0.007629043864044197:\n",
    "        \n",
    "        print(columns)"
   ]
  },
  {
   "cell_type": "code",
   "execution_count": 408,
   "id": "7fc03cef",
   "metadata": {},
   "outputs": [],
   "source": [
    "selected_col=[\"total_sale\",\n",
    "\"product_name\",\n",
    "\"category\",\n",
    "\"sub-category\",\n",
    "\"row_id\",\n",
    "\"week\",\n",
    "\"order_id\",\n",
    "\"customer_name\",\n",
    "\"postal_code\",\n",
    "\"order_freq\",\n",
    "\"time_to_complete_order\",\n",
    "\"city\",\n",
    "\"state\"]"
   ]
  },
  {
   "cell_type": "code",
   "execution_count": 369,
   "id": "6c4ae455",
   "metadata": {},
   "outputs": [],
   "source": [
    "corr=x.corr()"
   ]
  },
  {
   "cell_type": "code",
   "execution_count": 384,
   "id": "952214b5",
   "metadata": {},
   "outputs": [
    {
     "name": "stdout",
     "output_type": "stream",
     "text": [
      "[('customer_id', 'customer_name'), ('product_id', 'category'), ('month', 'week')]\n"
     ]
    }
   ],
   "source": [
    "thresold=0.80\n",
    "data=[]\n",
    "for i in range(len(corr.columns)):\n",
    "    for j in range(i+1,len(corr.columns)):\n",
    "        if abs(corr.iloc[i,j])>thresold:\n",
    "            data.append((corr.columns[i],corr.columns[j]))\n",
    "print(data)\n",
    "            \n",
    "            "
   ]
  },
  {
   "cell_type": "code",
   "execution_count": 393,
   "id": "1793474c",
   "metadata": {},
   "outputs": [],
   "source": [
    "col=[\"customer_id\",\"product_id\",\"month\"]"
   ]
  },
  {
   "cell_type": "code",
   "execution_count": 396,
   "id": "271acd05",
   "metadata": {},
   "outputs": [],
   "source": [
    "x1=x.drop([\"customer_id\",\"product_id\",\"month\"],axis=1)"
   ]
  },
  {
   "cell_type": "code",
   "execution_count": 398,
   "id": "25185e48",
   "metadata": {},
   "outputs": [],
   "source": [
    "x1[\"time_to_complete_order\"]=x1[\"time_to_complete_order\"].astype(\"int64\")"
   ]
  },
  {
   "cell_type": "code",
   "execution_count": 410,
   "id": "aa8c1466",
   "metadata": {},
   "outputs": [],
   "source": [
    "x1=x1[selected_col]"
   ]
  },
  {
   "cell_type": "code",
   "execution_count": 411,
   "id": "712128b5",
   "metadata": {},
   "outputs": [],
   "source": [
    "x_train,x_test,y_train,y_test=train_test_split(x1,y)"
   ]
  },
  {
   "cell_type": "code",
   "execution_count": 412,
   "id": "bc620ace",
   "metadata": {},
   "outputs": [],
   "source": [
    "scaler = StandardScaler()\n",
    "x_train_scale= scaler.fit_transform(x_train)\n",
    "x_test_scale=scaler.transform(x_test)"
   ]
  },
  {
   "cell_type": "code",
   "execution_count": 222,
   "id": "38902bd4",
   "metadata": {},
   "outputs": [],
   "source": [
    "pca=PCA(n_components=5)\n",
    "final_x_train=pd.DataFrame(pca.fit_transform(x_train_scale))\n",
    "                           \n",
    "final_x_test=pd.DataFrame(pca.transform(x_test_scale))"
   ]
  },
  {
   "cell_type": "code",
   "execution_count": 413,
   "id": "a1dd8cf4",
   "metadata": {},
   "outputs": [],
   "source": [
    "models = [\n",
    "    ('Decission Regression', DecisionTreeRegressor()),\n",
    "    ('Random Forest Regression', RandomForestRegressor()),('xgboost',xgb.XGBRegressor()),(\"lgb\",lgb.LGBMRegressor()),\n",
    "    (\"linear_regression\",LinearRegression()),(\"SVR\",SVR())]\n"
   ]
  },
  {
   "cell_type": "code",
   "execution_count": 414,
   "id": "dc6a56cd",
   "metadata": {},
   "outputs": [
    {
     "name": "stdout",
     "output_type": "stream",
     "text": [
      "Decission Regression,score:0.11770484223376743\n",
      "Random Forest Regression,score:0.504088643771853\n",
      "xgboost,score:0.5455740670948535\n",
      "[LightGBM] [Info] Auto-choosing col-wise multi-threading, the overhead of testing was 0.001218 seconds.\n",
      "You can set `force_col_wise=true` to remove the overhead.\n",
      "[LightGBM] [Info] Total Bins 2055\n",
      "[LightGBM] [Info] Number of data points in the train set: 7350, number of used features: 13\n",
      "[LightGBM] [Info] Start training from score 230.491613\n",
      "lgb,score:0.5143352732619717\n",
      "linear_regression,score:0.2711093720376283\n",
      "SVR,score:-0.04084327656211584\n"
     ]
    }
   ],
   "source": [
    "\n",
    "for model_name, model in models:\n",
    "    model.fit(x_train_scale,y_train)\n",
    "    y_pred=model.predict(x_test_scale)\n",
    "    score=r2_score(y_test,y_pred)\n",
    "    print(f\"{model_name},score:{score}\")\n",
    "    "
   ]
  },
  {
   "cell_type": "code",
   "execution_count": 511,
   "id": "9d46a183",
   "metadata": {},
   "outputs": [],
   "source": [
    "from scipy.stats import randint,uniform\n",
    "\n",
    "\n",
    "param_grid = {\n",
    "    'learning_rate': [0.01, 0.1, 0.2],\n",
    "    'max_depth': [3, 5, 7],\n",
    "    'n_estimators': [100, 200, 300],\n",
    "    'reg_alpha': [0, 0.1, 0.5],\n",
    "    'reg_lambda': [0, 0.1, 0.5]}\n"
   ]
  },
  {
   "cell_type": "code",
   "execution_count": 512,
   "id": "fd5c32c4",
   "metadata": {},
   "outputs": [],
   "source": [
    "reg=xgb.XGBRegressor()"
   ]
  },
  {
   "cell_type": "code",
   "execution_count": 513,
   "id": "9c02ad5a",
   "metadata": {},
   "outputs": [],
   "source": [
    "random_cv=RandomizedSearchCV(reg,param_grid,n_iter=100,cv=5,scoring='neg_mean_absolute_error')\n",
    "\n"
   ]
  },
  {
   "cell_type": "code",
   "execution_count": 514,
   "id": "5621fd06",
   "metadata": {},
   "outputs": [
    {
     "data": {
      "text/html": [
       "<style>#sk-container-id-13 {color: black;background-color: white;}#sk-container-id-13 pre{padding: 0;}#sk-container-id-13 div.sk-toggleable {background-color: white;}#sk-container-id-13 label.sk-toggleable__label {cursor: pointer;display: block;width: 100%;margin-bottom: 0;padding: 0.3em;box-sizing: border-box;text-align: center;}#sk-container-id-13 label.sk-toggleable__label-arrow:before {content: \"▸\";float: left;margin-right: 0.25em;color: #696969;}#sk-container-id-13 label.sk-toggleable__label-arrow:hover:before {color: black;}#sk-container-id-13 div.sk-estimator:hover label.sk-toggleable__label-arrow:before {color: black;}#sk-container-id-13 div.sk-toggleable__content {max-height: 0;max-width: 0;overflow: hidden;text-align: left;background-color: #f0f8ff;}#sk-container-id-13 div.sk-toggleable__content pre {margin: 0.2em;color: black;border-radius: 0.25em;background-color: #f0f8ff;}#sk-container-id-13 input.sk-toggleable__control:checked~div.sk-toggleable__content {max-height: 200px;max-width: 100%;overflow: auto;}#sk-container-id-13 input.sk-toggleable__control:checked~label.sk-toggleable__label-arrow:before {content: \"▾\";}#sk-container-id-13 div.sk-estimator input.sk-toggleable__control:checked~label.sk-toggleable__label {background-color: #d4ebff;}#sk-container-id-13 div.sk-label input.sk-toggleable__control:checked~label.sk-toggleable__label {background-color: #d4ebff;}#sk-container-id-13 input.sk-hidden--visually {border: 0;clip: rect(1px 1px 1px 1px);clip: rect(1px, 1px, 1px, 1px);height: 1px;margin: -1px;overflow: hidden;padding: 0;position: absolute;width: 1px;}#sk-container-id-13 div.sk-estimator {font-family: monospace;background-color: #f0f8ff;border: 1px dotted black;border-radius: 0.25em;box-sizing: border-box;margin-bottom: 0.5em;}#sk-container-id-13 div.sk-estimator:hover {background-color: #d4ebff;}#sk-container-id-13 div.sk-parallel-item::after {content: \"\";width: 100%;border-bottom: 1px solid gray;flex-grow: 1;}#sk-container-id-13 div.sk-label:hover label.sk-toggleable__label {background-color: #d4ebff;}#sk-container-id-13 div.sk-serial::before {content: \"\";position: absolute;border-left: 1px solid gray;box-sizing: border-box;top: 0;bottom: 0;left: 50%;z-index: 0;}#sk-container-id-13 div.sk-serial {display: flex;flex-direction: column;align-items: center;background-color: white;padding-right: 0.2em;padding-left: 0.2em;position: relative;}#sk-container-id-13 div.sk-item {position: relative;z-index: 1;}#sk-container-id-13 div.sk-parallel {display: flex;align-items: stretch;justify-content: center;background-color: white;position: relative;}#sk-container-id-13 div.sk-item::before, #sk-container-id-13 div.sk-parallel-item::before {content: \"\";position: absolute;border-left: 1px solid gray;box-sizing: border-box;top: 0;bottom: 0;left: 50%;z-index: -1;}#sk-container-id-13 div.sk-parallel-item {display: flex;flex-direction: column;z-index: 1;position: relative;background-color: white;}#sk-container-id-13 div.sk-parallel-item:first-child::after {align-self: flex-end;width: 50%;}#sk-container-id-13 div.sk-parallel-item:last-child::after {align-self: flex-start;width: 50%;}#sk-container-id-13 div.sk-parallel-item:only-child::after {width: 0;}#sk-container-id-13 div.sk-dashed-wrapped {border: 1px dashed gray;margin: 0 0.4em 0.5em 0.4em;box-sizing: border-box;padding-bottom: 0.4em;background-color: white;}#sk-container-id-13 div.sk-label label {font-family: monospace;font-weight: bold;display: inline-block;line-height: 1.2em;}#sk-container-id-13 div.sk-label-container {text-align: center;}#sk-container-id-13 div.sk-container {/* jupyter's `normalize.less` sets `[hidden] { display: none; }` but bootstrap.min.css set `[hidden] { display: none !important; }` so we also need the `!important` here to be able to override the default hidden behavior on the sphinx rendered scikit-learn.org. See: https://github.com/scikit-learn/scikit-learn/issues/21755 */display: inline-block !important;position: relative;}#sk-container-id-13 div.sk-text-repr-fallback {display: none;}</style><div id=\"sk-container-id-13\" class=\"sk-top-container\"><div class=\"sk-text-repr-fallback\"><pre>RandomizedSearchCV(cv=5,\n",
       "                   estimator=XGBRegressor(base_score=None, booster=None,\n",
       "                                          callbacks=None,\n",
       "                                          colsample_bylevel=None,\n",
       "                                          colsample_bynode=None,\n",
       "                                          colsample_bytree=None, device=None,\n",
       "                                          early_stopping_rounds=None,\n",
       "                                          enable_categorical=False,\n",
       "                                          eval_metric=None, feature_types=None,\n",
       "                                          gamma=None, grow_policy=None,\n",
       "                                          importance_type=None,\n",
       "                                          interaction_constraints=None,\n",
       "                                          learning_rate=...\n",
       "                                          min_child_weight=None, missing=nan,\n",
       "                                          monotone_constraints=None,\n",
       "                                          multi_strategy=None,\n",
       "                                          n_estimators=None, n_jobs=None,\n",
       "                                          num_parallel_tree=None,\n",
       "                                          random_state=None, ...),\n",
       "                   n_iter=100,\n",
       "                   param_distributions={&#x27;learning_rate&#x27;: [0.01, 0.1, 0.2],\n",
       "                                        &#x27;max_depth&#x27;: [3, 5, 7],\n",
       "                                        &#x27;n_estimators&#x27;: [100, 200, 300],\n",
       "                                        &#x27;reg_alpha&#x27;: [0, 0.1, 0.5],\n",
       "                                        &#x27;reg_lambda&#x27;: [0, 0.1, 0.5]},\n",
       "                   scoring=&#x27;neg_mean_absolute_error&#x27;)</pre><b>In a Jupyter environment, please rerun this cell to show the HTML representation or trust the notebook. <br />On GitHub, the HTML representation is unable to render, please try loading this page with nbviewer.org.</b></div><div class=\"sk-container\" hidden><div class=\"sk-item sk-dashed-wrapped\"><div class=\"sk-label-container\"><div class=\"sk-label sk-toggleable\"><input class=\"sk-toggleable__control sk-hidden--visually\" id=\"sk-estimator-id-31\" type=\"checkbox\" ><label for=\"sk-estimator-id-31\" class=\"sk-toggleable__label sk-toggleable__label-arrow\">RandomizedSearchCV</label><div class=\"sk-toggleable__content\"><pre>RandomizedSearchCV(cv=5,\n",
       "                   estimator=XGBRegressor(base_score=None, booster=None,\n",
       "                                          callbacks=None,\n",
       "                                          colsample_bylevel=None,\n",
       "                                          colsample_bynode=None,\n",
       "                                          colsample_bytree=None, device=None,\n",
       "                                          early_stopping_rounds=None,\n",
       "                                          enable_categorical=False,\n",
       "                                          eval_metric=None, feature_types=None,\n",
       "                                          gamma=None, grow_policy=None,\n",
       "                                          importance_type=None,\n",
       "                                          interaction_constraints=None,\n",
       "                                          learning_rate=...\n",
       "                                          min_child_weight=None, missing=nan,\n",
       "                                          monotone_constraints=None,\n",
       "                                          multi_strategy=None,\n",
       "                                          n_estimators=None, n_jobs=None,\n",
       "                                          num_parallel_tree=None,\n",
       "                                          random_state=None, ...),\n",
       "                   n_iter=100,\n",
       "                   param_distributions={&#x27;learning_rate&#x27;: [0.01, 0.1, 0.2],\n",
       "                                        &#x27;max_depth&#x27;: [3, 5, 7],\n",
       "                                        &#x27;n_estimators&#x27;: [100, 200, 300],\n",
       "                                        &#x27;reg_alpha&#x27;: [0, 0.1, 0.5],\n",
       "                                        &#x27;reg_lambda&#x27;: [0, 0.1, 0.5]},\n",
       "                   scoring=&#x27;neg_mean_absolute_error&#x27;)</pre></div></div></div><div class=\"sk-parallel\"><div class=\"sk-parallel-item\"><div class=\"sk-item\"><div class=\"sk-label-container\"><div class=\"sk-label sk-toggleable\"><input class=\"sk-toggleable__control sk-hidden--visually\" id=\"sk-estimator-id-32\" type=\"checkbox\" ><label for=\"sk-estimator-id-32\" class=\"sk-toggleable__label sk-toggleable__label-arrow\">estimator: XGBRegressor</label><div class=\"sk-toggleable__content\"><pre>XGBRegressor(base_score=None, booster=None, callbacks=None,\n",
       "             colsample_bylevel=None, colsample_bynode=None,\n",
       "             colsample_bytree=None, device=None, early_stopping_rounds=None,\n",
       "             enable_categorical=False, eval_metric=None, feature_types=None,\n",
       "             gamma=None, grow_policy=None, importance_type=None,\n",
       "             interaction_constraints=None, learning_rate=None, max_bin=None,\n",
       "             max_cat_threshold=None, max_cat_to_onehot=None,\n",
       "             max_delta_step=None, max_depth=None, max_leaves=None,\n",
       "             min_child_weight=None, missing=nan, monotone_constraints=None,\n",
       "             multi_strategy=None, n_estimators=None, n_jobs=None,\n",
       "             num_parallel_tree=None, random_state=None, ...)</pre></div></div></div><div class=\"sk-serial\"><div class=\"sk-item\"><div class=\"sk-estimator sk-toggleable\"><input class=\"sk-toggleable__control sk-hidden--visually\" id=\"sk-estimator-id-33\" type=\"checkbox\" ><label for=\"sk-estimator-id-33\" class=\"sk-toggleable__label sk-toggleable__label-arrow\">XGBRegressor</label><div class=\"sk-toggleable__content\"><pre>XGBRegressor(base_score=None, booster=None, callbacks=None,\n",
       "             colsample_bylevel=None, colsample_bynode=None,\n",
       "             colsample_bytree=None, device=None, early_stopping_rounds=None,\n",
       "             enable_categorical=False, eval_metric=None, feature_types=None,\n",
       "             gamma=None, grow_policy=None, importance_type=None,\n",
       "             interaction_constraints=None, learning_rate=None, max_bin=None,\n",
       "             max_cat_threshold=None, max_cat_to_onehot=None,\n",
       "             max_delta_step=None, max_depth=None, max_leaves=None,\n",
       "             min_child_weight=None, missing=nan, monotone_constraints=None,\n",
       "             multi_strategy=None, n_estimators=None, n_jobs=None,\n",
       "             num_parallel_tree=None, random_state=None, ...)</pre></div></div></div></div></div></div></div></div></div></div>"
      ],
      "text/plain": [
       "RandomizedSearchCV(cv=5,\n",
       "                   estimator=XGBRegressor(base_score=None, booster=None,\n",
       "                                          callbacks=None,\n",
       "                                          colsample_bylevel=None,\n",
       "                                          colsample_bynode=None,\n",
       "                                          colsample_bytree=None, device=None,\n",
       "                                          early_stopping_rounds=None,\n",
       "                                          enable_categorical=False,\n",
       "                                          eval_metric=None, feature_types=None,\n",
       "                                          gamma=None, grow_policy=None,\n",
       "                                          importance_type=None,\n",
       "                                          interaction_constraints=None,\n",
       "                                          learning_rate=...\n",
       "                                          min_child_weight=None, missing=nan,\n",
       "                                          monotone_constraints=None,\n",
       "                                          multi_strategy=None,\n",
       "                                          n_estimators=None, n_jobs=None,\n",
       "                                          num_parallel_tree=None,\n",
       "                                          random_state=None, ...),\n",
       "                   n_iter=100,\n",
       "                   param_distributions={'learning_rate': [0.01, 0.1, 0.2],\n",
       "                                        'max_depth': [3, 5, 7],\n",
       "                                        'n_estimators': [100, 200, 300],\n",
       "                                        'reg_alpha': [0, 0.1, 0.5],\n",
       "                                        'reg_lambda': [0, 0.1, 0.5]},\n",
       "                   scoring='neg_mean_absolute_error')"
      ]
     },
     "execution_count": 514,
     "metadata": {},
     "output_type": "execute_result"
    }
   ],
   "source": [
    "random_cv.fit(x_train_scale,y_train)"
   ]
  },
  {
   "cell_type": "code",
   "execution_count": 515,
   "id": "5efb748a",
   "metadata": {},
   "outputs": [
    {
     "data": {
      "text/plain": [
       "{'reg_lambda': 0,\n",
       " 'reg_alpha': 0.1,\n",
       " 'n_estimators': 100,\n",
       " 'max_depth': 7,\n",
       " 'learning_rate': 0.1}"
      ]
     },
     "execution_count": 515,
     "metadata": {},
     "output_type": "execute_result"
    }
   ],
   "source": [
    "random_cv.best_params_"
   ]
  },
  {
   "cell_type": "code",
   "execution_count": 516,
   "id": "a90d9368",
   "metadata": {},
   "outputs": [],
   "source": [
    "reg=xgb.XGBRegressor(reg_lambda= 0,\n",
    " reg_alpha= 0.1,\n",
    " n_estimators= 100,\n",
    " max_depth= 7,\n",
    " learning_rate= 0.1)"
   ]
  },
  {
   "cell_type": "code",
   "execution_count": 517,
   "id": "77a4951c",
   "metadata": {},
   "outputs": [],
   "source": [
    "model=reg.fit(x_train_scale,y_train)"
   ]
  },
  {
   "cell_type": "code",
   "execution_count": 518,
   "id": "fca73d9f",
   "metadata": {},
   "outputs": [],
   "source": [
    "y_pred=model.predict(x_test_scale)"
   ]
  },
  {
   "cell_type": "code",
   "execution_count": 519,
   "id": "b00b36aa",
   "metadata": {},
   "outputs": [],
   "source": [
    "y_pred_data=pd.DataFrame(y_pred,columns=[\"forecast\"]).reset_index()"
   ]
  },
  {
   "cell_type": "code",
   "execution_count": 520,
   "id": "18b00e08",
   "metadata": {},
   "outputs": [],
   "source": [
    "y_test_data=pd.DataFrame(y_test).reset_index()\n"
   ]
  },
  {
   "cell_type": "code",
   "execution_count": 521,
   "id": "5fd9e25d",
   "metadata": {},
   "outputs": [],
   "source": [
    "for_visu=pd.concat([y_test_data,y_pred_data],axis=1)"
   ]
  },
  {
   "cell_type": "code",
   "execution_count": 522,
   "id": "b479a9bc",
   "metadata": {},
   "outputs": [
    {
     "data": {
      "text/plain": [
       "154.65976292014008"
      ]
     },
     "execution_count": 522,
     "metadata": {},
     "output_type": "execute_result"
    }
   ],
   "source": [
    "mae(y_test,y_pred)"
   ]
  },
  {
   "cell_type": "code",
   "execution_count": 523,
   "id": "5d14044b",
   "metadata": {},
   "outputs": [
    {
     "data": {
      "text/plain": [
       "0.539231733573087"
      ]
     },
     "execution_count": 523,
     "metadata": {},
     "output_type": "execute_result"
    }
   ],
   "source": [
    "r2_score(y_test,y_pred)"
   ]
  },
  {
   "cell_type": "code",
   "execution_count": 524,
   "id": "df25120b",
   "metadata": {},
   "outputs": [
    {
     "name": "stdout",
     "output_type": "stream",
     "text": [
      "                0\n",
      "0     -624.912415\n",
      "1     -777.650146\n",
      "2    -1014.170837\n",
      "3     -771.784119\n",
      "4     -944.684204\n",
      "...           ...\n",
      "2445  -998.816833\n",
      "2446  -921.638611\n",
      "2447  -932.232849\n",
      "2448  -710.703003\n",
      "2449  -893.399902\n",
      "\n",
      "[2450 rows x 1 columns]\n",
      "                0\n",
      "0     1321.855225\n",
      "1     1169.117432\n",
      "2      932.596741\n",
      "3     1174.983521\n",
      "4     1002.083374\n",
      "...           ...\n",
      "2445   947.950745\n",
      "2446  1025.128906\n",
      "2447  1014.534729\n",
      "2448  1236.064575\n",
      "2449  1053.367676\n",
      "\n",
      "[2450 rows x 1 columns]\n"
     ]
    }
   ],
   "source": [
    "lower_bound = y_pred - 1.96 *std\n",
    "print(pd.DataFrame(lower_bound))\n",
    "upper_bound=y_pred +1.96 *std\n",
    "print(pd.DataFrame(upper_bound))"
   ]
  },
  {
   "cell_type": "code",
   "execution_count": 528,
   "id": "77ee9630",
   "metadata": {},
   "outputs": [
    {
     "data": {
      "text/plain": [
       "<Axes: >"
      ]
     },
     "execution_count": 528,
     "metadata": {},
     "output_type": "execute_result"
    },
    {
     "data": {
      "image/png": "[encoded data removed]",
      "text/plain": [
       "<Figure size 640x480 with 1 Axes>"
      ]
     },
     "metadata": {},
     "output_type": "display_data"
    }
   ],
   "source": [
    "for_visu[[\"sales\",\"forecast\"]][2350:2450].plot()"
   ]
  },
  {
   "cell_type": "code",
   "execution_count": null,
   "id": "a18d73b3",
   "metadata": {},
   "outputs": [],
   "source": []
  }
 ],
 "metadata": {
  "kernelspec": {
   "display_name": "Python 3 (ipykernel)",
   "language": "python",
   "name": "python3"
  },
  "language_info": {
   "codemirror_mode": {
    "name": "ipython",
    "version": 3
   },
   "file_extension": ".py",
   "mimetype": "text/x-python",
   "name": "python",
   "nbconvert_exporter": "python",
   "pygments_lexer": "ipython3",
   "version": "3.11.3"
  }
 },
 "nbformat": 4,
 "nbformat_minor": 5
}
